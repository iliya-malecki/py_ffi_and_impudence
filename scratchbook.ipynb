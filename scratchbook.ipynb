{
 "cells": [
  {
   "cell_type": "code",
   "execution_count": 31,
   "metadata": {},
   "outputs": [
    {
     "data": {
      "text/plain": [
       "1073741825"
      ]
     },
     "execution_count": 31,
     "metadata": {},
     "output_type": "execute_result"
    }
   ],
   "source": [
    "def num(arr: list[str]):\n",
    "    SHIFT=30\n",
    "    return sum(int(digit, base=2) * 2**(SHIFT*i) for i, digit in enumerate(arr))\n",
    "\n",
    "num([\n",
    "#    || these two are not used for representing the number\n",
    "    '00000000000000000000000000000001',\n",
    "    '00000000000000000000000000000001',\n",
    "])"
   ]
  },
  {
   "cell_type": "code",
   "execution_count": 43,
   "metadata": {},
   "outputs": [
    {
     "name": "stdout",
     "output_type": "stream",
     "text": [
      "0\n",
      "0\n",
      "0\n",
      "60\n",
      "174\n",
      "89\n",
      "133\n",
      "188\n",
      "100\n",
      "0\n"
     ]
    }
   ],
   "source": [
    "i = 42**10\n",
    "for byte in i.to_bytes(10, 'big'):\n",
    "    print(byte)"
   ]
  },
  {
   "cell_type": "code",
   "execution_count": 106,
   "metadata": {},
   "outputs": [
    {
     "name": "stdout",
     "output_type": "stream",
     "text": [
      "0: 54\n",
      "1: 1\n",
      "2: 0\n",
      "3: 0\n"
     ]
    }
   ],
   "source": [
    "i=310\n",
    "for n, x in enumerate(abs(i).to_bytes((i.bit_length() + 31) // 32 * 4, 'little')):\n",
    "    print(n, x, sep=': ') "
   ]
  },
  {
   "cell_type": "code",
   "execution_count": 71,
   "metadata": {},
   "outputs": [],
   "source": [
    "def a(value):\n",
    "    return ((value + 31) & ~31) // 8\n"
   ]
  },
  {
   "cell_type": "code",
   "execution_count": 104,
   "metadata": {},
   "outputs": [
    {
     "data": {
      "text/plain": [
       "(16, 16, 13)"
      ]
     },
     "execution_count": 104,
     "metadata": {},
     "output_type": "execute_result"
    }
   ],
   "source": [
    "def b(value):\n",
    "    return (value + 31) // 32 * 4\n",
    "\n",
    "def c(value):\n",
    "    return (value + 7) // 8\n",
    "\n",
    "x = 99\n",
    "a(x), b(x), c(x)"
   ]
  },
  {
   "cell_type": "code",
   "execution_count": 113,
   "metadata": {},
   "outputs": [
    {
     "data": {
      "text/plain": [
       "3.0"
      ]
     },
     "execution_count": 113,
     "metadata": {},
     "output_type": "execute_result"
    }
   ],
   "source": [
    "import numpy as np\n",
    "i = 42**13\n",
    "np.ceil(i.bit_length() / 32)"
   ]
  },
  {
   "cell_type": "code",
   "execution_count": 218,
   "metadata": {},
   "outputs": [
    {
     "data": {
      "text/plain": [
       "['00101010101010101010101010101010',\n",
       " '00101010101010101010101010101010',\n",
       " '00101010101010101010101010101010',\n",
       " '00101010101010101010101010101010',\n",
       " '00101010101010101010101010101010',\n",
       " '00101010101010101010101010101010',\n",
       " '00101010101010101010101010101010',\n",
       " '00101010101010101010101010101010',\n",
       " '00101010101010101010101010101010',\n",
       " '00101010101010101010101010101010']"
      ]
     },
     "execution_count": 218,
     "metadata": {},
     "output_type": "execute_result"
    }
   ],
   "source": [
    "def strrepr(x: list[int]):\n",
    "    return [bin(i)[2:].rjust(32,'0') for i in x]\n",
    "pyints = [int('10'*15, base=2)]*10\n",
    "\n",
    "strrepr(pyints)"
   ]
  },
  {
   "cell_type": "code",
   "execution_count": 220,
   "metadata": {},
   "outputs": [
    {
     "data": {
      "text/plain": [
       "['10101010101010101010101010101010',\n",
       " '10101010101010101010101010101010',\n",
       " '10101010101010101010101010101010',\n",
       " '10101010101010101010101010101010',\n",
       " '10101010101010101010101010101010',\n",
       " '10101010101010101010101010101010',\n",
       " '10101010101010101010101010101010',\n",
       " '10101010101010101010101010101010',\n",
       " '10101010101010101010101010101010',\n",
       " '00000000000000000000101010101010']"
      ]
     },
     "execution_count": 220,
     "metadata": {},
     "output_type": "execute_result"
    }
   ],
   "source": [
    "newints = []\n",
    "current = pyints[0]\n",
    "\n",
    "for i, next in enumerate(pyints[1:]):\n",
    "    newints.append(current|(next<<(30-i*2))&0xFFFFFFFF)\n",
    "    current = next >> 2 + i*2\n",
    "newints.append(current)\n",
    "strrepr(newints)"
   ]
  },
  {
   "cell_type": "code",
   "execution_count": 4,
   "metadata": {},
   "outputs": [],
   "source": [
    "def longval(a: list[int], base):\n",
    "    return sum(digit * 2**(base*i) for i, digit in enumerate(a))"
   ]
  },
  {
   "cell_type": "code",
   "execution_count": 217,
   "metadata": {},
   "outputs": [
    {
     "data": {
      "text/plain": [
       "True"
      ]
     },
     "execution_count": 217,
     "metadata": {},
     "output_type": "execute_result"
    }
   ],
   "source": [
    "longval(pyints, 30) == longval(newints, 32)"
   ]
  },
  {
   "cell_type": "code",
   "execution_count": 5,
   "metadata": {},
   "outputs": [
    {
     "data": {
      "text/plain": [
       "True"
      ]
     },
     "execution_count": 5,
     "metadata": {},
     "output_type": "execute_result"
    }
   ],
   "source": [
    "inp = [1073741823]*20\n",
    "res = [\n",
    "    4294967295,\n",
    "    4294967295,\n",
    "    4294967295,\n",
    "    4294967295,\n",
    "    4294967295,\n",
    "    4294967295,\n",
    "    4294967295,\n",
    "    4294967295,\n",
    "    4294967295,\n",
    "    4294967295,\n",
    "    4294967295,\n",
    "    4294967295,\n",
    "    4294967295,\n",
    "    4294967295,\n",
    "    4294967295,\n",
    "    4294967295,\n",
    "    4294967295,\n",
    "    4294967295,\n",
    "    16777215,\n",
    "]\n",
    "longval(inp, 30) == longval(res, 32)"
   ]
  },
  {
   "cell_type": "code",
   "execution_count": null,
   "metadata": {},
   "outputs": [],
   "source": []
  }
 ],
 "metadata": {
  "kernelspec": {
   "display_name": "base",
   "language": "python",
   "name": "python3"
  },
  "language_info": {
   "codemirror_mode": {
    "name": "ipython",
    "version": 3
   },
   "file_extension": ".py",
   "mimetype": "text/x-python",
   "name": "python",
   "nbconvert_exporter": "python",
   "pygments_lexer": "ipython3",
   "version": "3.10.8"
  },
  "orig_nbformat": 4
 },
 "nbformat": 4,
 "nbformat_minor": 2
}
